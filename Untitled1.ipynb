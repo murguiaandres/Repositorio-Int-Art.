{
  "nbformat": 4,
  "nbformat_minor": 0,
  "metadata": {
    "colab": {
      "provenance": [],
      "authorship_tag": "ABX9TyNQUMa6HjbHfleeKfEOClz6",
      "include_colab_link": true
    },
    "kernelspec": {
      "name": "python3",
      "display_name": "Python 3"
    },
    "language_info": {
      "name": "python"
    }
  },
  "cells": [
    {
      "cell_type": "markdown",
      "metadata": {
        "id": "view-in-github",
        "colab_type": "text"
      },
      "source": [
        "<a href=\"https://colab.research.google.com/github/murguiaandres/Repositorio-Int-Art./blob/main/Untitled1.ipynb\" target=\"_parent\"><img src=\"https://colab.research.google.com/assets/colab-badge.svg\" alt=\"Open In Colab\"/></a>"
      ]
    },
    {
      "cell_type": "code",
      "execution_count": null,
      "metadata": {
        "id": "8fKA2QPhf1ZR"
      },
      "outputs": [],
      "source": [
        "'Nombre: Luis Enrique Salazar Matron - Matricula:2047932'\n",
        "        'Andres Murguia Valencia - Matricula:2173973'\n",
        "        'Rodrigo Alexander Ontiveros Mendez - 2001598'\n",
        "'Hora: Martes (N4-N6)'\n",
        "\n",
        "\n",
        "import pandas as pd\n",
        "import numpy as np\n",
        "import matplotlib.pyplot as plt\n",
        "from sklearn.preprocessing import MinMaxScaler\n",
        "#/CARGA DE DATOS MEDIANTE PANDAS#/\n",
        "df = pd.read_csv('/content/robot_sensors.csv')\n",
        "print(\"primeras filas del dataset:\")\n",
        "#/PRIMERAS FILAS DEL DATASET/#\n",
        "print(df.head())\n",
        "#/QUITAR VALORES NULOS/#\n",
        "df = df.dropna()\n",
        "#/FILTRACION DE VALORES ATIPICOS/#\n",
        "if \"Velocidad (cm/s)\" in df.columns:\n",
        "    df = df[df[\"Velocidad (cm/s)\"] >= 0]\n",
        "#/Normalizar los datos con MINMAX/#\n",
        "scaler = MinMaxScaler()\n",
        "cols = [\"Tiempo (s)\", \"Distancia (cm)\", \"Velocidad (cm/s)\", \"Temperatura (°C)\"]\n",
        "cols_presentes = [c for c in cols if c in df.columns]\n",
        "\n",
        "df_normalizado = df.copy()\n",
        "df_normalizado[cols_presentes] = scaler.fit_transform(df[cols_presentes])\n",
        "\n",
        "print(\"\\nDatos normalizados:\")\n",
        "print(df_normalizado.head())\n",
        "#/GRAFICAR/#\n",
        "cols_to_plot = [\"Distancia (cm)\", \"Velocidad (cm/s)\", \"Temperatura (°C)\"]\n",
        "\n",
        "fig, axes = plt.subplots(nrows=1, ncols=3, figsize=(18, 5))\n",
        "axes = axes.flatten()\n",
        "\n",
        "for i, c in enumerate(cols_to_plot):\n",
        "    if c in df_normalizado.columns:\n",
        "        axes[i].hist(df_normalizado[c], bins=50, edgecolor='black', color='green')\n",
        "        axes[i].set_title(f\"Distribución de Datos Normalizados - {c}\")\n",
        "        axes[i].set_xlabel(\"Valor normalizado (0 a 1)\")\n",
        "        axes[i].set_ylabel(\"Frecuencia\")\n",
        "        axes[i].set_ylim(0, 50)  # Set y-axis limit\n",
        "        axes[i].grid(False)\n",
        "    else:\n",
        "        print(f\"La columna '{c}' no se encuentra en el DataFrame normalizado.\")\n",
        "\n",
        "plt.tight_layout()\n",
        "plt.show()\n",
        "\n",
        "primeras filas del dataset:\n",
        "   Tiempo (s)  Distancia (cm)  Velocidad (cm/s)  Temperatura (°C)\n",
        "0           0       43.708611          9.256646         23.925585\n",
        "1           1       95.564288         27.095047         23.704682\n",
        "2           2       75.879455         43.647292         33.593819\n",
        "3           3       63.879264         36.611244         23.743193\n",
        "4           4       24.041678         40.328057         24.079246\n",
        "\n",
        "Datos normalizados:\n",
        "   Tiempo (s)  Distancia (cm)  Velocidad (cm/s)  Temperatura (°C)\n",
        "0    0.000000        0.371735          0.182609          0.262269\n",
        "1    0.001001        0.950755          0.540740          0.247509\n",
        "2    0.002002        0.730954          0.873049          0.908233\n",
        "3    0.003003        0.596960          0.731791          0.250082\n",
        "4    0.004004        0.152134          0.806411          0.272535\n"
      ]
    }
  ]
}